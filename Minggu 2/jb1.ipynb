{
 "cells": [
  {
   "cell_type": "code",
   "execution_count": 17,
   "metadata": {},
   "outputs": [
    {
     "name": "stdout",
     "output_type": "stream",
     "text": [
      "[[1.         0.11111111]\n",
      " [0.         1.        ]\n",
      " [0.45652174 0.        ]]\n"
     ]
    }
   ],
   "source": [
    "from numpy import asarray\n",
    "from sklearn.preprocessing import MinMaxScaler\n",
    "import numpy as np\n",
    "\n",
    "data = [[100, 0.01],\n",
    "        [8, 0.05],\n",
    "        [50, 0.005]]\n",
    "        \n",
    "np_data = np.asarray(data)\n",
    "\n",
    "scaler = MinMaxScaler()\n",
    "scaled = scaler.fit_transform(data)\n",
    "print(scaled)"
   ]
  },
  {
   "cell_type": "code",
   "execution_count": 26,
   "metadata": {},
   "outputs": [
    {
     "data": {
      "text/plain": [
       "array([[ 1.26398112, -1.16389967],\n",
       "       [-0.65623116,  0.48622176],\n",
       "       [ 0.6102111 ,  0.18921441],\n",
       "       [ 1.99807462,  0.23476602],\n",
       "       [ 1.65186847,  0.22506085]])"
      ]
     },
     "execution_count": 26,
     "metadata": {},
     "output_type": "execute_result"
    }
   ],
   "source": [
    "from statistics import mean, pstdev\n",
    "\n",
    "def std_feature(data):\n",
    "    baris_data = data.shape[0]\n",
    "    kolom_data = data.shape[1]\n",
    "\n",
    "    for i in range(0, baris_data):\n",
    "        for j in range(0, kolom_data):\n",
    "            data[i][j] = (data[i][j] - mean(data[:,j])) / pstdev(data[:,j])\n",
    "\n",
    "    return data\n",
    "\n",
    "data = [[100, 0.001],\n",
    "        [8, 0.05],\n",
    "        [50, 0.005],\n",
    "        [88, 0.07],\n",
    "        [4, 0.1]]\n",
    "\n",
    "\n",
    "data = np.asarray(data)\n",
    "\n",
    "std_data = std_feature(data)\n",
    "std_data"
   ]
  },
  {
   "cell_type": "code",
   "execution_count": 27,
   "metadata": {},
   "outputs": [
    {
     "data": {
      "text/plain": [
       "array([[ 0.31019162, -1.96754253],\n",
       "       [-1.74088681,  0.83573983],\n",
       "       [-0.38813407,  0.33117364],\n",
       "       [ 1.094315  ,  0.40855827],\n",
       "       [ 0.72451425,  0.39207079]])"
      ]
     },
     "execution_count": 27,
     "metadata": {},
     "output_type": "execute_result"
    }
   ],
   "source": [
    "from sklearn.preprocessing import StandardScaler\n",
    "\n",
    "ss_scaler = StandardScaler()\n",
    "\n",
    "std_data = ss_scaler.fit_transform(data)\n",
    "std_data"
   ]
  },
  {
   "cell_type": "code",
   "execution_count": 29,
   "metadata": {},
   "outputs": [
    {
     "data": {
      "text/plain": [
       "array([[0., 0., 0., 0., 1.],\n",
       "       [1., 0., 0., 0., 0.],\n",
       "       [0., 1., 0., 0., 0.],\n",
       "       [0., 0., 1., 0., 0.],\n",
       "       [0., 0., 0., 1., 0.]])"
      ]
     },
     "execution_count": 29,
     "metadata": {},
     "output_type": "execute_result"
    }
   ],
   "source": [
    "from sklearn.preprocessing import OrdinalEncoder, OneHotEncoder\n",
    "\n",
    "oe = [['POLINEMA'],\n",
    "    ['PENS'],\n",
    "    ['PIN'],\n",
    "    ['PNP'],\n",
    "    ['POLBAN']]\n",
    "\n",
    "ord_oe = OrdinalEncoder().fit_transform(oe)\n",
    "ohe_oe = OneHotEncoder().fit_transform(oe)\n",
    "ohe_oe.toarray()"
   ]
  },
  {
   "cell_type": "code",
   "execution_count": 34,
   "metadata": {},
   "outputs": [
    {
     "name": "stdout",
     "output_type": "stream",
     "text": [
      "['ate', 'away', 'cat', 'end', 'finally', 'house', 'little', 'mouse', 'ran', 'saw', 'story', 'tiny']\n",
      "[[0.         0.         0.         0.         0.         0.4755751\n",
      "  0.58946308 0.28088232 0.         0.         0.         0.58946308]\n",
      " [0.         0.         0.58873218 0.         0.         0.\n",
      "  0.         0.34771471 0.         0.72971837 0.         0.        ]\n",
      " [0.         0.58946308 0.         0.         0.         0.4755751\n",
      "  0.         0.28088232 0.58946308 0.         0.         0.        ]\n",
      " [0.58946308 0.         0.4755751  0.         0.58946308 0.\n",
      "  0.         0.28088232 0.         0.         0.         0.        ]\n",
      " [0.         0.         0.         0.67009179 0.         0.\n",
      "  0.         0.31930233 0.         0.         0.67009179 0.        ]]\n"
     ]
    }
   ],
   "source": [
    "corpus = [\n",
    "            'the house had a tiny little mouse',\n",
    "            'the cat saw the mouse',\n",
    "            'the mouse ran away from the house',\n",
    "            'the cat finally ate the mouse',\n",
    "            'the end of the mouse story'\n",
    "]\n",
    "\n",
    "from sklearn.feature_extraction.text import TfidfVectorizer\n",
    "\n",
    "vectorizer = TfidfVectorizer(stop_words='english')\n",
    "response = vectorizer.fit_transform(corpus)\n",
    "print(vectorizer.get_feature_names())\n",
    "print(response.todense())"
   ]
  },
  {
   "cell_type": "code",
   "execution_count": null,
   "metadata": {},
   "outputs": [],
   "source": []
  }
 ],
 "metadata": {
  "kernelspec": {
   "display_name": "Python 3.8.8 ('base')",
   "language": "python",
   "name": "python3"
  },
  "language_info": {
   "codemirror_mode": {
    "name": "ipython",
    "version": 3
   },
   "file_extension": ".py",
   "mimetype": "text/x-python",
   "name": "python",
   "nbconvert_exporter": "python",
   "pygments_lexer": "ipython3",
   "version": "3.8.8"
  },
  "orig_nbformat": 4,
  "vscode": {
   "interpreter": {
    "hash": "23bf0724a01b6ea9814e66f76182ea78c0ee849a72ca257c0e116bf83bb4960a"
   }
  }
 },
 "nbformat": 4,
 "nbformat_minor": 2
}
